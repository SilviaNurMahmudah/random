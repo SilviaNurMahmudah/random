{
  "nbformat": 4,
  "nbformat_minor": 0,
  "metadata": {
    "colab": {
      "provenance": [],
      "authorship_tag": "ABX9TyP6pR22WAjZiT25PjouEreV",
      "include_colab_link": true
    },
    "kernelspec": {
      "name": "python3",
      "display_name": "Python 3"
    },
    "language_info": {
      "name": "python"
    }
  },
  "cells": [
    {
      "cell_type": "markdown",
      "metadata": {
        "id": "view-in-github",
        "colab_type": "text"
      },
      "source": [
        "<a href=\"https://colab.research.google.com/github/SilviaNurMahmudah/random/blob/main/LirikLagu.ipynb\" target=\"_parent\"><img src=\"https://colab.research.google.com/assets/colab-badge.svg\" alt=\"Open In Colab\"/></a>"
      ]
    },
    {
      "cell_type": "code",
      "source": [
        "import time\n",
        "import sys\n",
        "\n",
        "def jalanin_lirik():\n",
        "  lirik = [\n",
        "      (\"temanku semua pada jahat tante\", 0.1),\n",
        "      (\"aku lagi susah mereka ga ada\", 0.13),\n",
        "      (\"coba kalau lagi jayaaa\", 0.14),\n",
        "      (\"aku di puja puja nya tanteee\", 0.14),\n",
        "      (\"\", 0.0),\n",
        "      (\"sudah terbiasa terjadi tante\", 0.10),\n",
        "      (\"teman datang ketika lagi butuh saja\", 0.13),\n",
        "      (\"coba kalau lagi susahhh\", 0.12),\n",
        "      (\"mereka semua menghilaaanggg...\", 0.19),\n",
        "  ]\n",
        "\n",
        "  delay = [0.3, 0.5, 0.5, 0.5,0.0, 0.5, 0.3, 0.3, 0.5]\n",
        "  print(\"\\n== TANTEEEE ==\\n\")\n",
        "  time.sleep(2)\n",
        "  for i, (baris_lagu, delay_karakter) in enumerate(lirik):\n",
        "    for karakter in baris_lagu:\n",
        "      print(karakter, end=\"\")\n",
        "      sys.stdout.flush()\n",
        "      time.sleep(delay_karakter)\n",
        "    time.sleep(delay[i])\n",
        "    print(\"\")\n",
        "\n",
        "jalanin_lirik()"
      ],
      "metadata": {
        "colab": {
          "base_uri": "https://localhost:8080/"
        },
        "id": "1qaBPMXZ9NQz",
        "outputId": "f3a00118-1fc9-4eaf-c638-3abcb8841baf"
      },
      "execution_count": 26,
      "outputs": [
        {
          "output_type": "stream",
          "name": "stdout",
          "text": [
            "\n",
            "== TANTEEEE ==\n",
            "\n",
            "temanku semua pada jahat tante\n",
            "aku lagi susah mereka ga ada\n",
            "coba kalau lagi jayaaa\n",
            "aku di puja puja nya tanteee\n",
            "\n",
            "sudah terbiasa terjadi tante\n",
            "teman datang ketika lagi butuh saja\n",
            "coba kalau lagi susahhh\n",
            "mereka semua menghilaaanggg...\n"
          ]
        }
      ]
    }
  ]
}